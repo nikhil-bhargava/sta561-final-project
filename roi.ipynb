{
 "cells": [
  {
   "cell_type": "code",
   "execution_count": 1,
   "id": "09012915",
   "metadata": {},
   "outputs": [],
   "source": [
    "import pandas as pd\n",
    "import numpy as np\n",
    "import ast\n",
    "import pickle\n",
    "import matplotlib.pyplot as plt"
   ]
  },
  {
   "cell_type": "code",
   "execution_count": 2,
   "id": "fabde000",
   "metadata": {},
   "outputs": [],
   "source": [
    "df = pd.read_csv('listings.csv')"
   ]
  },
  {
   "cell_type": "code",
   "execution_count": 3,
   "id": "65eeb828",
   "metadata": {},
   "outputs": [
    {
     "name": "stderr",
     "output_type": "stream",
     "text": [
      "/Users/nikhilbhargava/opt/anaconda3/envs/probml/lib/python3.7/site-packages/ipykernel_launcher.py:2: FutureWarning: The default value of regex will change from True to False in a future version. In addition, single character regular expressions will *not* be treated as literal strings when regex=True.\n",
      "  \n"
     ]
    }
   ],
   "source": [
    "df['price'] = df['price'].str.replace(',', '')\n",
    "df['price'] = df['price'].str.replace('$', '')\n",
    "df['price'] = df['price'].astype(float)"
   ]
  },
  {
   "cell_type": "code",
   "execution_count": 4,
   "id": "1ed630a5",
   "metadata": {},
   "outputs": [
    {
     "data": {
      "image/png": "[encoded data removed]",
      "text/plain": [
       "<Figure size 432x288 with 1 Axes>"
      ]
     },
     "metadata": {
      "needs_background": "light"
     },
     "output_type": "display_data"
    }
   ],
   "source": [
    "plt.hist(df['price'])\n",
    "plt.show()"
   ]
  },
  {
   "cell_type": "code",
   "execution_count": 5,
   "id": "7fb09394",
   "metadata": {},
   "outputs": [],
   "source": [
    "val = np.percentile(df.price,95)\n",
    "df = df.loc[df.price<val]"
   ]
  },
  {
   "cell_type": "code",
   "execution_count": 6,
   "id": "ae1f7921",
   "metadata": {},
   "outputs": [
    {
     "data": {
      "image/png": "[encoded data removed]",
      "text/plain": [
       "<Figure size 432x288 with 1 Axes>"
      ]
     },
     "metadata": {
      "needs_background": "light"
     },
     "output_type": "display_data"
    }
   ],
   "source": [
    "plt.hist(df['price'])\n",
    "plt.show()"
   ]
  },
  {
   "cell_type": "code",
   "execution_count": 7,
   "id": "cd807f52",
   "metadata": {},
   "outputs": [
    {
     "data": {
      "text/plain": [
       "(10803, 74)"
      ]
     },
     "execution_count": 7,
     "metadata": {},
     "output_type": "execute_result"
    }
   ],
   "source": [
    "df.shape"
   ]
  },
  {
   "cell_type": "code",
   "execution_count": 8,
   "id": "9d33fa27",
   "metadata": {},
   "outputs": [
    {
     "data": {
      "text/html": [
       "<div>\n",
       "<style scoped>\n",
       "    .dataframe tbody tr th:only-of-type {\n",
       "        vertical-align: middle;\n",
       "    }\n",
       "\n",
       "    .dataframe tbody tr th {\n",
       "        vertical-align: top;\n",
       "    }\n",
       "\n",
       "    .dataframe thead th {\n",
       "        text-align: right;\n",
       "    }\n",
       "</style>\n",
       "<table border=\"1\" class=\"dataframe\">\n",
       "  <thead>\n",
       "    <tr style=\"text-align: right;\">\n",
       "      <th></th>\n",
       "      <th>id</th>\n",
       "      <th>listing_url</th>\n",
       "      <th>scrape_id</th>\n",
       "      <th>last_scraped</th>\n",
       "      <th>name</th>\n",
       "      <th>description</th>\n",
       "      <th>neighborhood_overview</th>\n",
       "      <th>picture_url</th>\n",
       "      <th>host_id</th>\n",
       "      <th>host_url</th>\n",
       "      <th>...</th>\n",
       "      <th>review_scores_communication</th>\n",
       "      <th>review_scores_location</th>\n",
       "      <th>review_scores_value</th>\n",
       "      <th>license</th>\n",
       "      <th>instant_bookable</th>\n",
       "      <th>calculated_host_listings_count</th>\n",
       "      <th>calculated_host_listings_count_entire_homes</th>\n",
       "      <th>calculated_host_listings_count_private_rooms</th>\n",
       "      <th>calculated_host_listings_count_shared_rooms</th>\n",
       "      <th>reviews_per_month</th>\n",
       "    </tr>\n",
       "  </thead>\n",
       "  <tbody>\n",
       "    <tr>\n",
       "      <th>0</th>\n",
       "      <td>1078</td>\n",
       "      <td>https://www.airbnb.com/rooms/1078</td>\n",
       "      <td>20211211051409</td>\n",
       "      <td>2021-12-11</td>\n",
       "      <td>*UT/Hyde Park Craftsman Apartment</td>\n",
       "      <td>This upstairs apartment is surrounded by trees...</td>\n",
       "      <td>Hyde Park is close to downtown, UT, 6th street...</td>\n",
       "      <td>https://a0.muscache.com/pictures/52472f12-2e2e...</td>\n",
       "      <td>4635658</td>\n",
       "      <td>https://www.airbnb.com/users/show/4635658</td>\n",
       "      <td>...</td>\n",
       "      <td>4.91</td>\n",
       "      <td>4.87</td>\n",
       "      <td>4.87</td>\n",
       "      <td>NaN</td>\n",
       "      <td>t</td>\n",
       "      <td>2</td>\n",
       "      <td>2</td>\n",
       "      <td>0</td>\n",
       "      <td>0</td>\n",
       "      <td>1.44</td>\n",
       "    </tr>\n",
       "    <tr>\n",
       "      <th>1</th>\n",
       "      <td>2265</td>\n",
       "      <td>https://www.airbnb.com/rooms/2265</td>\n",
       "      <td>20211211051409</td>\n",
       "      <td>2021-12-11</td>\n",
       "      <td>Zen-East in the Heart of Austin (monthly rental)</td>\n",
       "      <td>Zen East is situated in a vibrant &amp; diverse mu...</td>\n",
       "      <td>NaN</td>\n",
       "      <td>https://a0.muscache.com/pictures/4187/52d4f5d0...</td>\n",
       "      <td>2466</td>\n",
       "      <td>https://www.airbnb.com/users/show/2466</td>\n",
       "      <td>...</td>\n",
       "      <td>4.83</td>\n",
       "      <td>4.26</td>\n",
       "      <td>4.35</td>\n",
       "      <td>NaN</td>\n",
       "      <td>f</td>\n",
       "      <td>3</td>\n",
       "      <td>2</td>\n",
       "      <td>1</td>\n",
       "      <td>0</td>\n",
       "      <td>0.17</td>\n",
       "    </tr>\n",
       "    <tr>\n",
       "      <th>2</th>\n",
       "      <td>5245</td>\n",
       "      <td>https://www.airbnb.com/rooms/5245</td>\n",
       "      <td>20211211051409</td>\n",
       "      <td>2021-12-11</td>\n",
       "      <td>Eco friendly, Colorful, Clean, Cozy monthly share</td>\n",
       "      <td>Situated in a vibrant &amp; diverse multicultural ...</td>\n",
       "      <td>NaN</td>\n",
       "      <td>https://a0.muscache.com/pictures/5167505/b33b5...</td>\n",
       "      <td>2466</td>\n",
       "      <td>https://www.airbnb.com/users/show/2466</td>\n",
       "      <td>...</td>\n",
       "      <td>4.40</td>\n",
       "      <td>4.75</td>\n",
       "      <td>4.50</td>\n",
       "      <td>NaN</td>\n",
       "      <td>f</td>\n",
       "      <td>3</td>\n",
       "      <td>2</td>\n",
       "      <td>1</td>\n",
       "      <td>0</td>\n",
       "      <td>0.06</td>\n",
       "    </tr>\n",
       "    <tr>\n",
       "      <th>3</th>\n",
       "      <td>5456</td>\n",
       "      <td>https://www.airbnb.com/rooms/5456</td>\n",
       "      <td>20211211051409</td>\n",
       "      <td>2021-12-11</td>\n",
       "      <td>Walk to 6th, Rainey St and Convention Ctr</td>\n",
       "      <td>Great central  location for walking to Convent...</td>\n",
       "      <td>My neighborhood is ideally located if you want...</td>\n",
       "      <td>https://a0.muscache.com/pictures/14084884/b5a3...</td>\n",
       "      <td>8028</td>\n",
       "      <td>https://www.airbnb.com/users/show/8028</td>\n",
       "      <td>...</td>\n",
       "      <td>4.80</td>\n",
       "      <td>4.73</td>\n",
       "      <td>4.78</td>\n",
       "      <td>NaN</td>\n",
       "      <td>f</td>\n",
       "      <td>1</td>\n",
       "      <td>1</td>\n",
       "      <td>0</td>\n",
       "      <td>0</td>\n",
       "      <td>3.72</td>\n",
       "    </tr>\n",
       "    <tr>\n",
       "      <th>4</th>\n",
       "      <td>5769</td>\n",
       "      <td>https://www.airbnb.com/rooms/5769</td>\n",
       "      <td>20211211051409</td>\n",
       "      <td>2021-12-11</td>\n",
       "      <td>NW Austin Room</td>\n",
       "      <td>&lt;b&gt;The space&lt;/b&gt;&lt;br /&gt;Looking for a comfortabl...</td>\n",
       "      <td>Quiet neighborhood with lots of trees and good...</td>\n",
       "      <td>https://a0.muscache.com/pictures/23822033/ac94...</td>\n",
       "      <td>8186</td>\n",
       "      <td>https://www.airbnb.com/users/show/8186</td>\n",
       "      <td>...</td>\n",
       "      <td>4.94</td>\n",
       "      <td>4.74</td>\n",
       "      <td>4.92</td>\n",
       "      <td>NaN</td>\n",
       "      <td>f</td>\n",
       "      <td>1</td>\n",
       "      <td>0</td>\n",
       "      <td>1</td>\n",
       "      <td>0</td>\n",
       "      <td>1.86</td>\n",
       "    </tr>\n",
       "  </tbody>\n",
       "</table>\n",
       "<p>5 rows × 74 columns</p>\n",
       "</div>"
      ],
      "text/plain": [
       "     id                        listing_url       scrape_id last_scraped  \\\n",
       "0  1078  https://www.airbnb.com/rooms/1078  20211211051409   2021-12-11   \n",
       "1  2265  https://www.airbnb.com/rooms/2265  20211211051409   2021-12-11   \n",
       "2  5245  https://www.airbnb.com/rooms/5245  20211211051409   2021-12-11   \n",
       "3  5456  https://www.airbnb.com/rooms/5456  20211211051409   2021-12-11   \n",
       "4  5769  https://www.airbnb.com/rooms/5769  20211211051409   2021-12-11   \n",
       "\n",
       "                                                name  \\\n",
       "0                  *UT/Hyde Park Craftsman Apartment   \n",
       "1   Zen-East in the Heart of Austin (monthly rental)   \n",
       "2  Eco friendly, Colorful, Clean, Cozy monthly share   \n",
       "3          Walk to 6th, Rainey St and Convention Ctr   \n",
       "4                                     NW Austin Room   \n",
       "\n",
       "                                         description  \\\n",
       "0  This upstairs apartment is surrounded by trees...   \n",
       "1  Zen East is situated in a vibrant & diverse mu...   \n",
       "2  Situated in a vibrant & diverse multicultural ...   \n",
       "3  Great central  location for walking to Convent...   \n",
       "4  <b>The space</b><br />Looking for a comfortabl...   \n",
       "\n",
       "                               neighborhood_overview  \\\n",
       "0  Hyde Park is close to downtown, UT, 6th street...   \n",
       "1                                                NaN   \n",
       "2                                                NaN   \n",
       "3  My neighborhood is ideally located if you want...   \n",
       "4  Quiet neighborhood with lots of trees and good...   \n",
       "\n",
       "                                         picture_url  host_id  \\\n",
       "0  https://a0.muscache.com/pictures/52472f12-2e2e...  4635658   \n",
       "1  https://a0.muscache.com/pictures/4187/52d4f5d0...     2466   \n",
       "2  https://a0.muscache.com/pictures/5167505/b33b5...     2466   \n",
       "3  https://a0.muscache.com/pictures/14084884/b5a3...     8028   \n",
       "4  https://a0.muscache.com/pictures/23822033/ac94...     8186   \n",
       "\n",
       "                                    host_url  ... review_scores_communication  \\\n",
       "0  https://www.airbnb.com/users/show/4635658  ...                        4.91   \n",
       "1     https://www.airbnb.com/users/show/2466  ...                        4.83   \n",
       "2     https://www.airbnb.com/users/show/2466  ...                        4.40   \n",
       "3     https://www.airbnb.com/users/show/8028  ...                        4.80   \n",
       "4     https://www.airbnb.com/users/show/8186  ...                        4.94   \n",
       "\n",
       "  review_scores_location review_scores_value license instant_bookable  \\\n",
       "0                   4.87                4.87     NaN                t   \n",
       "1                   4.26                4.35     NaN                f   \n",
       "2                   4.75                4.50     NaN                f   \n",
       "3                   4.73                4.78     NaN                f   \n",
       "4                   4.74                4.92     NaN                f   \n",
       "\n",
       "  calculated_host_listings_count calculated_host_listings_count_entire_homes  \\\n",
       "0                              2                                           2   \n",
       "1                              3                                           2   \n",
       "2                              3                                           2   \n",
       "3                              1                                           1   \n",
       "4                              1                                           0   \n",
       "\n",
       "  calculated_host_listings_count_private_rooms  \\\n",
       "0                                            0   \n",
       "1                                            1   \n",
       "2                                            1   \n",
       "3                                            0   \n",
       "4                                            1   \n",
       "\n",
       "  calculated_host_listings_count_shared_rooms reviews_per_month  \n",
       "0                                           0              1.44  \n",
       "1                                           0              0.17  \n",
       "2                                           0              0.06  \n",
       "3                                           0              3.72  \n",
       "4                                           0              1.86  \n",
       "\n",
       "[5 rows x 74 columns]"
      ]
     },
     "execution_count": 8,
     "metadata": {},
     "output_type": "execute_result"
    }
   ],
   "source": [
    "df.head()"
   ]
  },
  {
   "cell_type": "code",
   "execution_count": 10,
   "id": "7c676c34",
   "metadata": {},
   "outputs": [],
   "source": [
    "df = df[df['room_type']=='Entire home/apt']"
   ]
  },
  {
   "cell_type": "code",
   "execution_count": 42,
   "id": "a635a9a8",
   "metadata": {},
   "outputs": [
    {
     "data": {
      "text/plain": [
       "Index(['id', 'listing_url', 'scrape_id', 'last_scraped', 'name', 'description',\n",
       "       'neighborhood_overview', 'picture_url', 'host_id', 'host_url',\n",
       "       'host_name', 'host_since', 'host_location', 'host_about',\n",
       "       'host_response_time', 'host_response_rate', 'host_acceptance_rate',\n",
       "       'host_is_superhost', 'host_thumbnail_url', 'host_picture_url',\n",
       "       'host_neighbourhood', 'host_listings_count',\n",
       "       'host_total_listings_count', 'host_verifications',\n",
       "       'host_has_profile_pic', 'host_identity_verified', 'neighbourhood',\n",
       "       'neighbourhood_cleansed', 'neighbourhood_group_cleansed', 'latitude',\n",
       "       'longitude', 'property_type', 'room_type', 'accommodates', 'bathrooms',\n",
       "       'bathrooms_text', 'bedrooms', 'beds', 'amenities', 'price',\n",
       "       'minimum_nights', 'maximum_nights', 'minimum_minimum_nights',\n",
       "       'maximum_minimum_nights', 'minimum_maximum_nights',\n",
       "       'maximum_maximum_nights', 'minimum_nights_avg_ntm',\n",
       "       'maximum_nights_avg_ntm', 'calendar_updated', 'has_availability',\n",
       "       'availability_30', 'availability_60', 'availability_90',\n",
       "       'availability_365', 'calendar_last_scraped', 'number_of_reviews',\n",
       "       'number_of_reviews_ltm', 'number_of_reviews_l30d', 'first_review',\n",
       "       'last_review', 'review_scores_rating', 'review_scores_accuracy',\n",
       "       'review_scores_cleanliness', 'review_scores_checkin',\n",
       "       'review_scores_communication', 'review_scores_location',\n",
       "       'review_scores_value', 'license', 'instant_bookable',\n",
       "       'calculated_host_listings_count',\n",
       "       'calculated_host_listings_count_entire_homes',\n",
       "       'calculated_host_listings_count_private_rooms',\n",
       "       'calculated_host_listings_count_shared_rooms', 'reviews_per_month',\n",
       "       'hasCooling', 'hasHeating', 'hasParking', 'homeType_house',\n",
       "       'homeType_condo', 'homeType_other', 'numOfBathrooms', 'numOfBedrooms',\n",
       "       'house_price', 'days_breakeven', 'years_breakeven', 'price_minus_fee'],\n",
       "      dtype='object')"
      ]
     },
     "execution_count": 42,
     "metadata": {},
     "output_type": "execute_result"
    }
   ],
   "source": [
    "df.columns"
   ]
  },
  {
   "cell_type": "markdown",
   "id": "62eaf8ae",
   "metadata": {},
   "source": [
    "## hasX"
   ]
  },
  {
   "cell_type": "code",
   "execution_count": 11,
   "id": "a7169476",
   "metadata": {},
   "outputs": [],
   "source": [
    "def handle_entry(s):\n",
    "    # return amenities list\n",
    "    s_list = ast.literal_eval(s)\n",
    "    s_list = [s.lower() for s in s_list]\n",
    "    return s_list"
   ]
  },
  {
   "cell_type": "code",
   "execution_count": 12,
   "id": "8445af76",
   "metadata": {},
   "outputs": [],
   "source": [
    "# clean amenity columns\n",
    "df['amenities'] = df['amenities'].apply(lambda x: handle_entry(x))"
   ]
  },
  {
   "cell_type": "code",
   "execution_count": 13,
   "id": "fdc815d1",
   "metadata": {},
   "outputs": [],
   "source": [
    "# use amenity dict to create amenity columns\n",
    "amenity_dict = {\n",
    "'hasCooling': ['air conditioning'],\n",
    "'hasHeating': ['heating'],\n",
    "'hasParking': ['paid parking off premises']}"
   ]
  },
  {
   "cell_type": "code",
   "execution_count": 14,
   "id": "2613cec0",
   "metadata": {},
   "outputs": [],
   "source": [
    "def ohe_amenities(amenity, x):\n",
    "    if amenity in x:\n",
    "        return 1\n",
    "    else:\n",
    "        return 0"
   ]
  },
  {
   "cell_type": "code",
   "execution_count": 15,
   "id": "eacc07cd",
   "metadata": {},
   "outputs": [],
   "source": [
    "# airbnb amenities\n",
    "for agroup in amenity_dict.keys():\n",
    "    amenity_cols = amenity_dict[agroup]\n",
    "    for amenity in amenity_cols:\n",
    "        df[amenity] = df['amenities'].apply(lambda x: ohe_amenities(amenity, x))\n",
    "    df[agroup] = df[amenity_cols].sum(axis=1)\n",
    "    df = df.drop(columns=amenity_cols)\n",
    "    df[agroup] = np.where(df[agroup] >= 1, 1, 0)"
   ]
  },
  {
   "cell_type": "markdown",
   "id": "7072be0b",
   "metadata": {},
   "source": [
    "## homeType"
   ]
  },
  {
   "cell_type": "code",
   "execution_count": 16,
   "id": "cfc6b90f",
   "metadata": {},
   "outputs": [],
   "source": [
    "valid_homes = ['Entire guesthouse',\n",
    " 'Entire residential home',\n",
    " 'Entire guest suite',\n",
    " 'Entire townhouse',\n",
    " 'Entire condominium (condo)',\n",
    " 'Entire rental unit',\n",
    " 'Entire bungalow',\n",
    " 'Entire loft',\n",
    " 'Entire cottage',\n",
    " 'Entire cabin',\n",
    " 'Entire villa',\n",
    " 'Tiny house',\n",
    " 'Entire place',\n",
    " 'Entire serviced apartment',\n",
    " 'Entire vacation home',\n",
    " 'Entire chalet',\n",
    " 'Entire home/apt']\n",
    "df = df[df['property_type'].isin(valid_homes)]"
   ]
  },
  {
   "cell_type": "code",
   "execution_count": 17,
   "id": "0426a00b",
   "metadata": {},
   "outputs": [],
   "source": [
    "home_dict = {\n",
    "'homeType_house': ['Entire guesthouse',\n",
    " 'Entire residential home',\n",
    " 'Entire townhouse',\n",
    " 'Entire rental unit',\n",
    " 'Entire bungalow',\n",
    " 'Entire cottage',\n",
    " 'Entire cabin',\n",
    " 'Entire place',\n",
    " 'Entire serviced apartment',\n",
    " 'Entire vacation home',\n",
    " 'Entire chalet',\n",
    " 'Entire home/apt'],\n",
    "'homeType_condo': ['Entire condominium (condo)'],\n",
    "'homeType_other': ['Tiny house', 'Entire villa', 'Entire loft', 'Entire guest suite']}"
   ]
  },
  {
   "cell_type": "code",
   "execution_count": 18,
   "id": "e65814c2",
   "metadata": {},
   "outputs": [],
   "source": [
    "# airbnb amenities\n",
    "for agroup in home_dict.keys():\n",
    "    amenity_cols = home_dict[agroup]\n",
    "    for amenity in amenity_cols:\n",
    "        df[amenity] = df['property_type'].apply(lambda x: ohe_amenities(amenity, x))\n",
    "    df[agroup] = df[amenity_cols].sum(axis=1)\n",
    "    df = df.drop(columns=amenity_cols)\n",
    "    df[agroup] = np.where(df[agroup] >= 1, 1, 0)"
   ]
  },
  {
   "cell_type": "markdown",
   "id": "5ea63dfb",
   "metadata": {},
   "source": [
    "## housingPrice (model stacking)"
   ]
  },
  {
   "cell_type": "code",
   "execution_count": 19,
   "id": "689bd236",
   "metadata": {},
   "outputs": [
    {
     "data": {
      "text/plain": [
       "Index(['id', 'listing_url', 'scrape_id', 'last_scraped', 'name', 'description',\n",
       "       'neighborhood_overview', 'picture_url', 'host_id', 'host_url',\n",
       "       'host_name', 'host_since', 'host_location', 'host_about',\n",
       "       'host_response_time', 'host_response_rate', 'host_acceptance_rate',\n",
       "       'host_is_superhost', 'host_thumbnail_url', 'host_picture_url',\n",
       "       'host_neighbourhood', 'host_listings_count',\n",
       "       'host_total_listings_count', 'host_verifications',\n",
       "       'host_has_profile_pic', 'host_identity_verified', 'neighbourhood',\n",
       "       'neighbourhood_cleansed', 'neighbourhood_group_cleansed', 'latitude',\n",
       "       'longitude', 'property_type', 'room_type', 'accommodates', 'bathrooms',\n",
       "       'bathrooms_text', 'bedrooms', 'beds', 'amenities', 'price',\n",
       "       'minimum_nights', 'maximum_nights', 'minimum_minimum_nights',\n",
       "       'maximum_minimum_nights', 'minimum_maximum_nights',\n",
       "       'maximum_maximum_nights', 'minimum_nights_avg_ntm',\n",
       "       'maximum_nights_avg_ntm', 'calendar_updated', 'has_availability',\n",
       "       'availability_30', 'availability_60', 'availability_90',\n",
       "       'availability_365', 'calendar_last_scraped', 'number_of_reviews',\n",
       "       'number_of_reviews_ltm', 'number_of_reviews_l30d', 'first_review',\n",
       "       'last_review', 'review_scores_rating', 'review_scores_accuracy',\n",
       "       'review_scores_cleanliness', 'review_scores_checkin',\n",
       "       'review_scores_communication', 'review_scores_location',\n",
       "       'review_scores_value', 'license', 'instant_bookable',\n",
       "       'calculated_host_listings_count',\n",
       "       'calculated_host_listings_count_entire_homes',\n",
       "       'calculated_host_listings_count_private_rooms',\n",
       "       'calculated_host_listings_count_shared_rooms', 'reviews_per_month',\n",
       "       'hasCooling', 'hasHeating', 'hasParking', 'homeType_house',\n",
       "       'homeType_condo', 'homeType_other'],\n",
       "      dtype='object')"
      ]
     },
     "execution_count": 19,
     "metadata": {},
     "output_type": "execute_result"
    }
   ],
   "source": [
    "df.columns"
   ]
  },
  {
   "cell_type": "code",
   "execution_count": 20,
   "id": "354e51ba",
   "metadata": {},
   "outputs": [],
   "source": [
    "bathroom_text_dict = {'Shared half-bath': '0.5', 'Half-bath': '0.5', 'Private half-bath': '0.5', np.nan: '1'}\n",
    "df['bathrooms_text'] = df['bathrooms_text'].apply(lambda x: bathroom_text_dict[x] if x in list(bathroom_text_dict.keys()) else x)\n",
    "df['bathrooms'] = df['bathrooms_text'].apply(lambda x: float(x.split()[0]))"
   ]
  },
  {
   "cell_type": "code",
   "execution_count": 21,
   "id": "3d57615a",
   "metadata": {},
   "outputs": [],
   "source": [
    "df['numOfBathrooms'] = df['bathrooms'].fillna(df['bedrooms'].median())\n",
    "df['numOfBedrooms'] = df['bedrooms'].fillna(df['bedrooms'].median())\n",
    "predict_prices = df[['hasParking', 'hasCooling', 'hasHeating', 'homeType_condo', 'homeType_house',\n",
    "                     'homeType_other', 'numOfBathrooms', 'numOfBedrooms']]"
   ]
  },
  {
   "cell_type": "code",
   "execution_count": 22,
   "id": "87e58c23",
   "metadata": {},
   "outputs": [
    {
     "data": {
      "text/plain": [
       "Index(['hasParking', 'hasCooling', 'hasHeating', 'homeType_condo',\n",
       "       'homeType_house', 'homeType_other', 'numOfBathrooms', 'numOfBedrooms'],\n",
       "      dtype='object')"
      ]
     },
     "execution_count": 22,
     "metadata": {},
     "output_type": "execute_result"
    }
   ],
   "source": [
    "predict_prices.columns"
   ]
  },
  {
   "cell_type": "code",
   "execution_count": 23,
   "id": "52b1e648",
   "metadata": {},
   "outputs": [
    {
     "name": "stdout",
     "output_type": "stream",
     "text": [
      "<class 'pandas.core.frame.DataFrame'>\n",
      "Int64Index: 8524 entries, 0 to 11373\n",
      "Data columns (total 8 columns):\n",
      " #   Column          Non-Null Count  Dtype  \n",
      "---  ------          --------------  -----  \n",
      " 0   hasParking      8524 non-null   int64  \n",
      " 1   hasCooling      8524 non-null   int64  \n",
      " 2   hasHeating      8524 non-null   int64  \n",
      " 3   homeType_condo  8524 non-null   int64  \n",
      " 4   homeType_house  8524 non-null   int64  \n",
      " 5   homeType_other  8524 non-null   int64  \n",
      " 6   numOfBathrooms  8524 non-null   float64\n",
      " 7   numOfBedrooms   8524 non-null   float64\n",
      "dtypes: float64(2), int64(6)\n",
      "memory usage: 599.3 KB\n"
     ]
    }
   ],
   "source": [
    "predict_prices.info()"
   ]
  },
  {
   "cell_type": "code",
   "execution_count": 24,
   "id": "1f493882",
   "metadata": {},
   "outputs": [
    {
     "name": "stderr",
     "output_type": "stream",
     "text": [
      "/Users/nikhilbhargava/opt/anaconda3/envs/probml/lib/python3.7/site-packages/sklearn/base.py:338: UserWarning: Trying to unpickle estimator LinearRegression from version 0.23.2 when using version 1.0.2. This might lead to breaking code or invalid results. Use at your own risk. For more info please refer to:\n",
      "https://scikit-learn.org/stable/modules/model_persistence.html#security-maintainability-limitations\n",
      "  UserWarning,\n"
     ]
    }
   ],
   "source": [
    "price_model = pickle.load(open('pricemodel.pkl', 'rb'))"
   ]
  },
  {
   "cell_type": "code",
   "execution_count": 25,
   "id": "629ae4da",
   "metadata": {},
   "outputs": [
    {
     "name": "stderr",
     "output_type": "stream",
     "text": [
      "/Users/nikhilbhargava/opt/anaconda3/envs/probml/lib/python3.7/site-packages/sklearn/base.py:444: UserWarning: X has feature names, but LinearRegression was fitted without feature names\n",
      "  f\"X has feature names, but {self.__class__.__name__} was fitted without\"\n"
     ]
    }
   ],
   "source": [
    "house_prices = price_model.predict(predict_prices)"
   ]
  },
  {
   "cell_type": "code",
   "execution_count": 26,
   "id": "972fb70c",
   "metadata": {},
   "outputs": [],
   "source": [
    "df['house_price'] = house_prices"
   ]
  },
  {
   "cell_type": "code",
   "execution_count": 27,
   "id": "689657da",
   "metadata": {},
   "outputs": [
    {
     "data": {
      "image/png": "[encoded data removed]",
      "text/plain": [
       "<Figure size 432x288 with 1 Axes>"
      ]
     },
     "metadata": {
      "needs_background": "light"
     },
     "output_type": "display_data"
    }
   ],
   "source": [
    "plt.scatter(df['price'], df['house_price'], alpha=0.5)\n",
    "plt.show()"
   ]
  },
  {
   "cell_type": "markdown",
   "id": "d42fae4e",
   "metadata": {},
   "source": [
    "## ROI"
   ]
  },
  {
   "cell_type": "code",
   "execution_count": 50,
   "id": "0f8c0429",
   "metadata": {},
   "outputs": [],
   "source": [
    "df['investment_cost'] = df['house_price']*0.2 + df['house_price']*0.8*1.065"
   ]
  },
  {
   "cell_type": "code",
   "execution_count": 51,
   "id": "78d80209",
   "metadata": {},
   "outputs": [],
   "source": [
    "df['price_minus_fee'] = df['price']*0.97"
   ]
  },
  {
   "cell_type": "code",
   "execution_count": 52,
   "id": "370ce80b",
   "metadata": {},
   "outputs": [],
   "source": [
    "occupancy_rate = 0.216"
   ]
  },
  {
   "cell_type": "code",
   "execution_count": 63,
   "id": "d634acbd",
   "metadata": {},
   "outputs": [],
   "source": [
    "# df['days_breakeven'] = df['house_price']/(df['price_minus_fee']*occupancy_rate)\n",
    "# df['years_breakeven'] = df['days_breakeven']/365\n",
    "\n",
    "df['days_breakeven'] = df['investment_cost']/(df['price_minus_fee']*occupancy_rate)\n",
    "df['years_breakeven'] = df['days_breakeven']/365\n",
    "df['expected_daily_roi'] = df['price']/df['days_breakeven']"
   ]
  },
  {
   "cell_type": "code",
   "execution_count": 60,
   "id": "13652514",
   "metadata": {},
   "outputs": [],
   "source": [
    "results = df[['name','description', 'price', 'hasParking', 'hasCooling', 'hasHeating', \n",
    "    'homeType_condo', 'homeType_house', 'homeType_other', 'numOfBathrooms', \n",
    "    'numOfBedrooms', 'years_breakeven', 'house_price', 'host_neighbourhood']].sort_values(by='years_breakeven')"
   ]
  },
  {
   "cell_type": "code",
   "execution_count": 62,
   "id": "e440d80d",
   "metadata": {},
   "outputs": [
    {
     "data": {
      "text/plain": [
       "host_neighbourhood\n",
       "Green Park             5.094550\n",
       "Comanche Point         5.444486\n",
       "Highland Park West     6.888574\n",
       "Santa Cruz             6.965008\n",
       "Jeffersonville         7.951448\n",
       "                        ...    \n",
       "North                 63.086561\n",
       "Highland Square       64.761229\n",
       "El Porto              72.156422\n",
       "Vaught Ranch          76.418250\n",
       "Parmer Park           79.836221\n",
       "Name: years_breakeven, Length: 394, dtype: float64"
      ]
     },
     "execution_count": 62,
     "metadata": {},
     "output_type": "execute_result"
    }
   ],
   "source": [
    "results.groupby(['host_neighbourhood'])['years_breakeven'].mean().sort_values()"
   ]
  }
 ],
 "metadata": {
  "kernelspec": {
   "display_name": "Python 3 (ipykernel)",
   "language": "python",
   "name": "python3"
  },
  "language_info": {
   "codemirror_mode": {
    "name": "ipython",
    "version": 3
   },
   "file_extension": ".py",
   "mimetype": "text/x-python",
   "name": "python",
   "nbconvert_exporter": "python",
   "pygments_lexer": "ipython3",
   "version": "3.7.11"
  }
 },
 "nbformat": 4,
 "nbformat_minor": 5
}
